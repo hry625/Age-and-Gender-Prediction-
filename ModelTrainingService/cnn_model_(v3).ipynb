{
 "cells": [
  {
   "cell_type": "markdown",
   "metadata": {},
   "source": [
    "# Age & Gender Detection with CNN\n",
    "\n",
    "**Dataset : UTKFace**\n",
    "\n",
    "UTKFace dataset is a large-scale face dataset with range from 0 to 116 years old. It consists of over 23,708 face images with labels of age, gender, and ethnicity. The images cover large variation in pose, facial expression, illumination, occlusion, resolution, etc.\n",
    "\n",
    "Since the dataset is `aligned and cropped` faces available to train the model. Have to say that any face input for testing must be cropped and aligned vertically to large extent."
   ]
  },
  {
   "cell_type": "code",
   "execution_count": 2,
   "metadata": {
    "tags": [
     "import"
    ]
   },
   "outputs": [],
   "source": [
    "# Essential libraries\n",
    "import os\n",
    "import glob\n",
    "import seaborn as sns\n",
    "import scipy.io\n",
    "import pandas as pd\n",
    "import numpy as np\n",
    "import matplotlib.pyplot as plt\n",
    "from keras import applications,activations\n",
    "from keras_preprocessing.image import img_to_array, load_img\n",
    "from keras.preprocessing import image\n",
    "from keras import optimizers,utils\n",
    "from keras.utils import plot_model\n",
    "from keras.models import Sequential, Model\n",
    "from keras.layers import Dropout, Flatten, Dense, GlobalAveragePooling2D,BatchNormalization,ZeroPadding2D, Input\n",
    "from keras.layers import Conv2D, Activation,MaxPooling2D\n",
    "from keras import backend as k\n",
    "from keras.callbacks import ModelCheckpoint, LearningRateScheduler, TensorBoard, EarlyStopping"
   ]
  },
  {
   "cell_type": "code",
   "execution_count": 3,
   "metadata": {},
   "outputs": [],
   "source": [
    "# Mounting the directory for the dataset to be read.\n",
    "dataset_folder = '../ModelTrainingService/input/utkface-new/UTKFace/'\n",
    "training_split = 0.7\n",
    "image_width = image_height = 224\n",
    "\n",
    "dataset_dict = {\n",
    "    'age_id': {'0-24': 0, '25-49':1, '50-74':2, '75-99':3, '100-124':4},\n",
    "    'race_id': {0: 'white', 1: 'black', 2: 'asian', 3: 'indian', 4: 'others'},\n",
    "    'gender_id': {0: 'male', 1: 'female'}\n",
    "}\n",
    "\n",
    "dataset_dict['age_temp'] = dict((a, i) for i, a in dataset_dict['age_id'].items())          # (Age: id)\n",
    "dataset_dict['gender_temp'] = dict((g, i) for i, g in dataset_dict['gender_id'].items())    # (Gender: id)\n",
    "dataset_dict['race_temp'] = dict((r, i) for i, r in dataset_dict['race_id'].items())        # (Race: id)"
   ]
  },
  {
   "cell_type": "code",
   "execution_count": 4,
   "metadata": {},
   "outputs": [],
   "source": [
    "# Function to extract the data from our dataset by iterating over each file of the UTK dataset and\n",
    "# return a Pandas Dataframe with all the fields (age, gender and sex).\n",
    "\n",
    "def parse_dataset(dataset_path, ext='jpg'):\n",
    "\n",
    "    def parse_info_from_file(path):  #Parsing info from a file\n",
    "\n",
    "        try:\n",
    "            file_name = os.path.split(path)[1]\n",
    "            file_name = os.path.splitext(file_name)[0]\n",
    "            age, gender, race, _ = file_name.split('_')\n",
    "\n",
    "            return int(age), dataset_dict['gender_id'][int(gender)], dataset_dict['race_id'][int(race)]\n",
    "        except Exception as ex:\n",
    "            return None, None, None\n",
    "\n",
    "    files = glob.glob(os.path.join(dataset_path, \"*.%s\" % ext))\n",
    "\n",
    "    records = []\n",
    "    for file in files:\n",
    "        info = parse_info_from_file(file)\n",
    "        records.append(info) # To place new items in the available space\n",
    "\n",
    "    df = pd.DataFrame(records)\n",
    "    df['file'] = files\n",
    "    df.columns = ['age', 'gender', 'race', 'file']\n",
    "\n",
    "\n",
    "    df = df.dropna() # To remove the rows that contains NULL values.\n",
    "\n",
    "    return df"
   ]
  },
  {
   "cell_type": "code",
   "execution_count": 5,
   "metadata": {},
   "outputs": [
    {
     "data": {
      "text/plain": "   age  gender   race                                               file\n0  100    male  white  ../ModelTrainingService/input/utkface-new/UTKF...\n1  100    male  white  ../ModelTrainingService/input/utkface-new/UTKF...\n2  100  female  white  ../ModelTrainingService/input/utkface-new/UTKF...\n3  100  female  white  ../ModelTrainingService/input/utkface-new/UTKF...\n4  100  female  white  ../ModelTrainingService/input/utkface-new/UTKF...",
      "text/html": "<div>\n<style scoped>\n    .dataframe tbody tr th:only-of-type {\n        vertical-align: middle;\n    }\n\n    .dataframe tbody tr th {\n        vertical-align: top;\n    }\n\n    .dataframe thead th {\n        text-align: right;\n    }\n</style>\n<table border=\"1\" class=\"dataframe\">\n  <thead>\n    <tr style=\"text-align: right;\">\n      <th></th>\n      <th>age</th>\n      <th>gender</th>\n      <th>race</th>\n      <th>file</th>\n    </tr>\n  </thead>\n  <tbody>\n    <tr>\n      <th>0</th>\n      <td>100</td>\n      <td>male</td>\n      <td>white</td>\n      <td>../ModelTrainingService/input/utkface-new/UTKF...</td>\n    </tr>\n    <tr>\n      <th>1</th>\n      <td>100</td>\n      <td>male</td>\n      <td>white</td>\n      <td>../ModelTrainingService/input/utkface-new/UTKF...</td>\n    </tr>\n    <tr>\n      <th>2</th>\n      <td>100</td>\n      <td>female</td>\n      <td>white</td>\n      <td>../ModelTrainingService/input/utkface-new/UTKF...</td>\n    </tr>\n    <tr>\n      <th>3</th>\n      <td>100</td>\n      <td>female</td>\n      <td>white</td>\n      <td>../ModelTrainingService/input/utkface-new/UTKF...</td>\n    </tr>\n    <tr>\n      <th>4</th>\n      <td>100</td>\n      <td>female</td>\n      <td>white</td>\n      <td>../ModelTrainingService/input/utkface-new/UTKF...</td>\n    </tr>\n  </tbody>\n</table>\n</div>"
     },
     "execution_count": 5,
     "metadata": {},
     "output_type": "execute_result"
    }
   ],
   "source": [
    "# Dataset before indexing\n",
    "df = parse_dataset(dataset_folder)\n",
    "df.head()"
   ]
  },
  {
   "cell_type": "code",
   "execution_count": 6,
   "metadata": {},
   "outputs": [
    {
     "name": "stdout",
     "output_type": "stream",
     "text": [
      "<class 'pandas.core.frame.DataFrame'>\n",
      "RangeIndex: 23708 entries, 0 to 23707\n",
      "Data columns (total 4 columns):\n",
      " #   Column  Non-Null Count  Dtype \n",
      "---  ------  --------------  ----- \n",
      " 0   age     23708 non-null  int64 \n",
      " 1   gender  23708 non-null  object\n",
      " 2   race    23708 non-null  object\n",
      " 3   file    23708 non-null  object\n",
      "dtypes: int64(1), object(3)\n",
      "memory usage: 741.0+ KB\n"
     ]
    }
   ],
   "source": [
    "# No NAN values, means our dataset is already clean.\n",
    "df.info()"
   ]
  },
  {
   "cell_type": "code",
   "execution_count": 7,
   "metadata": {},
   "outputs": [
    {
     "data": {
      "text/plain": "                age\ncount  23708.000000\nmean      33.303484\nstd       19.886112\nmin        1.000000\n25%       23.000000\n50%       29.000000\n75%       45.000000\nmax      116.000000",
      "text/html": "<div>\n<style scoped>\n    .dataframe tbody tr th:only-of-type {\n        vertical-align: middle;\n    }\n\n    .dataframe tbody tr th {\n        vertical-align: top;\n    }\n\n    .dataframe thead th {\n        text-align: right;\n    }\n</style>\n<table border=\"1\" class=\"dataframe\">\n  <thead>\n    <tr style=\"text-align: right;\">\n      <th></th>\n      <th>age</th>\n    </tr>\n  </thead>\n  <tbody>\n    <tr>\n      <th>count</th>\n      <td>23708.000000</td>\n    </tr>\n    <tr>\n      <th>mean</th>\n      <td>33.303484</td>\n    </tr>\n    <tr>\n      <th>std</th>\n      <td>19.886112</td>\n    </tr>\n    <tr>\n      <th>min</th>\n      <td>1.000000</td>\n    </tr>\n    <tr>\n      <th>25%</th>\n      <td>23.000000</td>\n    </tr>\n    <tr>\n      <th>50%</th>\n      <td>29.000000</td>\n    </tr>\n    <tr>\n      <th>75%</th>\n      <td>45.000000</td>\n    </tr>\n    <tr>\n      <th>max</th>\n      <td>116.000000</td>\n    </tr>\n  </tbody>\n</table>\n</div>"
     },
     "execution_count": 7,
     "metadata": {},
     "output_type": "execute_result"
    }
   ],
   "source": [
    "# Lower percentile - 25, median - 50 & upper percentile - 75 (for numerical data)\n",
    "df.describe()"
   ]
  },
  {
   "cell_type": "code",
   "execution_count": 8,
   "metadata": {},
   "outputs": [
    {
     "data": {
      "text/plain": "              age\ngender           \nfemale  30.684280\nmale    35.695666",
      "text/html": "<div>\n<style scoped>\n    .dataframe tbody tr th:only-of-type {\n        vertical-align: middle;\n    }\n\n    .dataframe tbody tr th {\n        vertical-align: top;\n    }\n\n    .dataframe thead th {\n        text-align: right;\n    }\n</style>\n<table border=\"1\" class=\"dataframe\">\n  <thead>\n    <tr style=\"text-align: right;\">\n      <th></th>\n      <th>age</th>\n    </tr>\n    <tr>\n      <th>gender</th>\n      <th></th>\n    </tr>\n  </thead>\n  <tbody>\n    <tr>\n      <th>female</th>\n      <td>30.684280</td>\n    </tr>\n    <tr>\n      <th>male</th>\n      <td>35.695666</td>\n    </tr>\n  </tbody>\n</table>\n</div>"
     },
     "execution_count": 8,
     "metadata": {},
     "output_type": "execute_result"
    }
   ],
   "source": [
    "# Mean age by gender\n",
    "df.groupby(['gender']).mean('age')"
   ]
  },
  {
   "cell_type": "code",
   "execution_count": 9,
   "metadata": {},
   "outputs": [
    {
     "data": {
      "text/plain": "              age\nrace             \nasian   25.877729\nblack   33.861498\nindian  31.540241\nothers  23.169031\nwhite   37.980949",
      "text/html": "<div>\n<style scoped>\n    .dataframe tbody tr th:only-of-type {\n        vertical-align: middle;\n    }\n\n    .dataframe tbody tr th {\n        vertical-align: top;\n    }\n\n    .dataframe thead th {\n        text-align: right;\n    }\n</style>\n<table border=\"1\" class=\"dataframe\">\n  <thead>\n    <tr style=\"text-align: right;\">\n      <th></th>\n      <th>age</th>\n    </tr>\n    <tr>\n      <th>race</th>\n      <th></th>\n    </tr>\n  </thead>\n  <tbody>\n    <tr>\n      <th>asian</th>\n      <td>25.877729</td>\n    </tr>\n    <tr>\n      <th>black</th>\n      <td>33.861498</td>\n    </tr>\n    <tr>\n      <th>indian</th>\n      <td>31.540241</td>\n    </tr>\n    <tr>\n      <th>others</th>\n      <td>23.169031</td>\n    </tr>\n    <tr>\n      <th>white</th>\n      <td>37.980949</td>\n    </tr>\n  </tbody>\n</table>\n</div>"
     },
     "execution_count": 9,
     "metadata": {},
     "output_type": "execute_result"
    }
   ],
   "source": [
    "# Mean age by race\n",
    "df.groupby(['race']).mean('age')"
   ]
  },
  {
   "cell_type": "markdown",
   "metadata": {},
   "source": [
    "# Data analysis & visualization (EDA)\n",
    "\n",
    "We can create here a function to generate some pie plots. We also look at the other visualization below to understand and grasp better about the data distribution to crete\n",
    "more efficient training, validation and test processes."
   ]
  },
  {
   "cell_type": "code",
   "execution_count": 10,
   "metadata": {},
   "outputs": [
    {
     "data": {
      "image/png": "[encoded data removed]",
      "text/plain": "<IPython.core.display.Image object>"
     },
     "metadata": {},
     "output_type": "display_data"
    }
   ],
   "source": [
    "import plotly.graph_objects as go\n",
    "from IPython.display import display, Image\n",
    "\n",
    "def plot_distribution(pd_series):\n",
    "\n",
    "    labels = pd_series.value_counts().index.tolist()\n",
    "    counts = pd_series.value_counts().values.tolist()\n",
    "\n",
    "    pie_plot = go.Pie(labels=labels, values=counts, hole=.3)\n",
    "    fig = go.Figure(data=[pie_plot])\n",
    "    fig.update_layout(title_text='Distribution for %s' % pd_series.name)\n",
    "\n",
    "    img_bytes = fig.to_image(format=\"png\")\n",
    "    #fig.show()\n",
    "    display(Image(img_bytes))\n",
    "\n",
    "# # Same as bar plot. Creating bins for age ranges and plotting that data. This helps us to see grouped age into bins with percentages.\n",
    "bins = [0, 10, 20, 30, 40, 60, 80, np.inf]\n",
    "names = ['<10', '10-20', '20-30', '30-40', '40-60', '60-80', '80+']\n",
    "age_binned = pd.cut(df['age'], bins, labels=names)\n",
    "plot_distribution(age_binned)"
   ]
  },
  {
   "cell_type": "code",
   "execution_count": 11,
   "metadata": {},
   "outputs": [
    {
     "data": {
      "text/plain": "<Figure size 640x480 with 1 Axes>",
      "image/png": "[encoded data removed]"
     },
     "metadata": {},
     "output_type": "display_data"
    }
   ],
   "source": [
    "# Uniform distribution to a large extent. Although, males slightly exceed females in numbers.No need to change gender in data.\n",
    "# Pretty well-balanced ! Let's also visualize this on a bar graph (to get better understanding of numbers)\n",
    "x = (df.gender=='male').sum()\n",
    "y = (df.gender=='female').sum()\n",
    "\n",
    "# Males over 12k while females close to 12k\n",
    "labels = ['male','female']\n",
    "colors = [ 'r', 'g']\n",
    "gender_pie = [x,y]\n",
    "explode = (0, 0)  # explode the 2nd slice (i.e. 'female')\n",
    "plt.pie(gender_pie,labels = labels,\n",
    "        colors = colors,\n",
    "        explode=explode,\n",
    "        radius=1.5,\n",
    "        autopct='%.1f%%',\n",
    "        textprops={'color':\"Black\", 'size':15},\n",
    "        startangle=90)\n",
    "plt.legend(gender_pie, bbox_to_anchor=(1.1, 1.1), fontsize='x-large')\n",
    "plt.show()"
   ]
  },
  {
   "cell_type": "code",
   "execution_count": 12,
   "metadata": {},
   "outputs": [
    {
     "data": {
      "text/plain": "<Figure size 640x480 with 1 Axes>",
      "image/png": "[encoded data removed]"
     },
     "metadata": {},
     "output_type": "display_data"
    }
   ],
   "source": [
    "# Distribution for race\n",
    "x = (df.race == 'white').sum()\n",
    "y = (df.race == 'black').sum()\n",
    "z = (df.race == 'asian').sum()\n",
    "a = (df.race == 'indian').sum()\n",
    "b = (df.race == 'others').sum()\n",
    "\n",
    "race_pie = [x, y, z, a, b]\n",
    "labels = ['white', 'black', 'asian', 'indian', 'others']\n",
    "colors = ['g', 'r', 'b', 'y', 'm']\n",
    "plt.pie(race_pie, labels=labels, colors=colors, radius=1.5, autopct='%.1f%%', textprops={'color':\"Black\", 'size':10},)\n",
    "plt.show()"
   ]
  },
  {
   "cell_type": "code",
   "execution_count": 13,
   "metadata": {},
   "outputs": [
    {
     "data": {
      "text/plain": "<Figure size 1500x800 with 1 Axes>",
      "image/png": "[encoded data removed]"
     },
     "metadata": {},
     "output_type": "display_data"
    }
   ],
   "source": [
    "# The population is mostly between 20-30 age group, the dataset is not very well-balanced. We try to embrace this imbalance through imagedatagenerator below.\n",
    "ages = df['age']\n",
    "nbins = 120\n",
    "plt.figure(figsize=(15,8))\n",
    "plt.hist(ages,nbins,color='red',histtype='bar')\n",
    "plt.title('Distribution of Age')\n",
    "plt.xlabel('Age')\n",
    "plt.ylabel('Number of datapoints')\n",
    "plt.show()"
   ]
  },
  {
   "cell_type": "code",
   "execution_count": 14,
   "metadata": {},
   "outputs": [
    {
     "data": {
      "text/plain": "<Figure size 640x480 with 1 Axes>",
      "image/png": "[encoded data removed]"
     },
     "metadata": {},
     "output_type": "display_data"
    }
   ],
   "source": [
    "# Males over 12k & females close to 12k\n",
    "sns.countplot(x='gender', data=df);"
   ]
  },
  {
   "cell_type": "code",
   "execution_count": 15,
   "metadata": {},
   "outputs": [
    {
     "data": {
      "text/plain": "<Figure size 591.875x500 with 1 Axes>",
      "image/png": "[encoded data removed]"
     },
     "metadata": {},
     "output_type": "display_data"
    }
   ],
   "source": [
    "# Gives the mean age of both genders of all races\n",
    "sns.catplot(x='race', y='age', hue='gender', data=df,kind='bar', height=5);"
   ]
  },
  {
   "cell_type": "code",
   "execution_count": 16,
   "metadata": {},
   "outputs": [
    {
     "data": {
      "text/plain": "<Figure size 1000x400 with 2 Axes>",
      "image/png": "[encoded data removed]"
     },
     "metadata": {},
     "output_type": "display_data"
    }
   ],
   "source": [
    "# We see that most of the males are between 25 and 55, whereas most of the females are between 20 and 40.\n",
    "# Grouping by race, there is good amount of variations in different races.\n",
    "fig, (ax1, ax2) = plt.subplots(1, 2, figsize=(10, 4))\n",
    "_ = sns.boxplot(data=df, x='gender', y='age', ax=ax1)\n",
    "_ = sns.boxplot(data=df, x='race', y='age', ax=ax2)"
   ]
  },
  {
   "cell_type": "code",
   "execution_count": 17,
   "metadata": {},
   "outputs": [
    {
     "name": "stdout",
     "output_type": "stream",
     "text": [
      "6903   11816   3990   967   32   0  \n"
     ]
    }
   ],
   "source": [
    "# RUN THIS CELL ONLY ONCE\n",
    "# To create age groups\n",
    "df['age'] = df['age']//25\n",
    "\n",
    "''' This basically makes 5 divisions in age-groups -\n",
    "1. 0-24\n",
    "2. 25-49\n",
    "3. 50-74\n",
    "4. 75-99\n",
    "5. 100-124 '''\n",
    "\n",
    "x = (df.age==0).sum()\n",
    "y = (df.age==1).sum()\n",
    "z = (df.age==2).sum()\n",
    "a = (df.age==3).sum()\n",
    "b = (df.age==4).sum()\n",
    "c = (df.age==5).sum() # To see that nothing left in the dataset\n",
    "\n",
    "print(x,' ', y,' ', z,' ', a,' ', b, ' ', c,' ')"
   ]
  },
  {
   "cell_type": "code",
   "execution_count": 18,
   "metadata": {},
   "outputs": [
    {
     "data": {
      "text/plain": "   age  gender   race                                               file\n0    4    male  white  ../ModelTrainingService/input/utkface-new/UTKF...\n1    4    male  white  ../ModelTrainingService/input/utkface-new/UTKF...\n2    4  female  white  ../ModelTrainingService/input/utkface-new/UTKF...\n3    4  female  white  ../ModelTrainingService/input/utkface-new/UTKF...\n4    4  female  white  ../ModelTrainingService/input/utkface-new/UTKF...",
      "text/html": "<div>\n<style scoped>\n    .dataframe tbody tr th:only-of-type {\n        vertical-align: middle;\n    }\n\n    .dataframe tbody tr th {\n        vertical-align: top;\n    }\n\n    .dataframe thead th {\n        text-align: right;\n    }\n</style>\n<table border=\"1\" class=\"dataframe\">\n  <thead>\n    <tr style=\"text-align: right;\">\n      <th></th>\n      <th>age</th>\n      <th>gender</th>\n      <th>race</th>\n      <th>file</th>\n    </tr>\n  </thead>\n  <tbody>\n    <tr>\n      <th>0</th>\n      <td>4</td>\n      <td>male</td>\n      <td>white</td>\n      <td>../ModelTrainingService/input/utkface-new/UTKF...</td>\n    </tr>\n    <tr>\n      <th>1</th>\n      <td>4</td>\n      <td>male</td>\n      <td>white</td>\n      <td>../ModelTrainingService/input/utkface-new/UTKF...</td>\n    </tr>\n    <tr>\n      <th>2</th>\n      <td>4</td>\n      <td>female</td>\n      <td>white</td>\n      <td>../ModelTrainingService/input/utkface-new/UTKF...</td>\n    </tr>\n    <tr>\n      <th>3</th>\n      <td>4</td>\n      <td>female</td>\n      <td>white</td>\n      <td>../ModelTrainingService/input/utkface-new/UTKF...</td>\n    </tr>\n    <tr>\n      <th>4</th>\n      <td>4</td>\n      <td>female</td>\n      <td>white</td>\n      <td>../ModelTrainingService/input/utkface-new/UTKF...</td>\n    </tr>\n  </tbody>\n</table>\n</div>"
     },
     "execution_count": 18,
     "metadata": {},
     "output_type": "execute_result"
    }
   ],
   "source": [
    "# After distribition of the ages into groups, we have now age groups 0 to 4 for age feature which contains ages from 1y to 116y.\n",
    "df.head()"
   ]
  },
  {
   "cell_type": "markdown",
   "metadata": {},
   "source": [
    "# Data image generator\n",
    "To be able to use as input to our model, below is the keras image data generator by creating batches of image data to feed the multi-output predictions."
   ]
  },
  {
   "cell_type": "code",
   "execution_count": 25,
   "metadata": {},
   "outputs": [
    {
     "name": "stdout",
     "output_type": "stream",
     "text": [
      "Train dataset lenght:  11616\n",
      "Validation dataset lenght:  4979\n",
      "Test dataset lenght:  7113\n"
     ]
    },
    {
     "ename": "NameError",
     "evalue": "name 'preprocess_image' is not defined",
     "output_type": "error",
     "traceback": [
      "\u001B[1;31m---------------------------------------------------------------------------\u001B[0m",
      "\u001B[1;31mNameError\u001B[0m                                 Traceback (most recent call last)",
      "Cell \u001B[1;32mIn[25], line 80\u001B[0m\n\u001B[0;32m     78\u001B[0m \u001B[38;5;28mprint\u001B[39m(\u001B[38;5;124m'\u001B[39m\u001B[38;5;124mValidation dataset lenght: \u001B[39m\u001B[38;5;124m'\u001B[39m, \u001B[38;5;28mlen\u001B[39m(valid_idx))\n\u001B[0;32m     79\u001B[0m \u001B[38;5;28mprint\u001B[39m(\u001B[38;5;124m'\u001B[39m\u001B[38;5;124mTest dataset lenght: \u001B[39m\u001B[38;5;124m'\u001B[39m, \u001B[38;5;28mlen\u001B[39m(test_idx))\n\u001B[1;32m---> 80\u001B[0m \u001B[38;5;28mprint\u001B[39m(\u001B[43mpreprocess_image\u001B[49m(file))\n",
      "\u001B[1;31mNameError\u001B[0m: name 'preprocess_image' is not defined"
     ]
    }
   ],
   "source": [
    "# Data image generator for augmenting the data\n",
    "# Generating batches of data, which will be used to feed our multi-output model with both the images and their labels.\n",
    "import cv2\n",
    "from keras.utils import to_categorical, normalize\n",
    "from PIL import Image, ImageFont\n",
    "\n",
    "class UtkFaceDataGenerator():\n",
    "\n",
    "    # Data generator for the UTKFace dataset. This class should be used when training our Keras multi-output model.\n",
    "    def __init__(self, df):\n",
    "        self.df = df\n",
    "\n",
    "    def generate_split_indexes(self):\n",
    "      p = np.random.permutation(len(self.df))\n",
    "      train_df = int(len(self.df) * training_split)\n",
    "      train_idx = p[:train_df]\n",
    "      test_idx = p[train_df:]\n",
    "\n",
    "      train_df = int(train_df * training_split)\n",
    "      train_idx, valid_idx = train_idx[:train_df], train_idx[train_df:]\n",
    "\n",
    "\n",
    "      # converts alias to id\n",
    "      self.df['age_id'] = self.df['age'].map(lambda age: dataset_dict['age_temp'][age])\n",
    "      self.df['gender_id'] = self.df['gender'].map(lambda gender: dataset_dict['gender_temp'][gender])\n",
    "      self.df['race_id'] = self.df['race'].map(lambda race: dataset_dict['race_temp'][race])\n",
    "      #self.max_age = self.df['age'].max()\n",
    "\n",
    "      return train_idx, valid_idx, test_idx\n",
    "\n",
    "    def preprocess_image(self, img_path):\n",
    "\n",
    "      # Used to perform some minor preprocessing (BGR2RGB) on the image before inputting into the network because matplotlib plot function expects RGB.\n",
    "\n",
    "      im = cv2.imread(img_path)\n",
    "      im = cv2.resize(im, (image_width, image_height))\n",
    "      im = cv2.cvtColor(im, cv2.COLOR_BGR2RGB)\n",
    "      im = np.array(im) / 255.0\n",
    "\n",
    "      return im\n",
    "\n",
    "    def generate_images(self, image_idx, is_training, batch_size=16):\n",
    "      \"\"\"\n",
    "      Used to generate a batch with images when training/testing/validating our Keras model.\n",
    "      \"\"\"\n",
    "\n",
    "      # arrays to store our batched data\n",
    "      images, ages, races, genders = [], [], [], []\n",
    "      while True:\n",
    "        for idx in image_idx:\n",
    "          person = self.df.iloc[idx]\n",
    "\n",
    "          age = person['age']\n",
    "          race = person['race_id']\n",
    "          gender = person['gender_id']\n",
    "          file = person['file']\n",
    "\n",
    "          im = self.preprocess_image(file)\n",
    "\n",
    "          #ages.append(age / self.max_age)\n",
    "          ages.append(to_categorical(age,len(dataset_dict['age_id'])))\n",
    "          races.append(to_categorical(race, len(dataset_dict['race_id'])))\n",
    "          genders.append(to_categorical(gender, len(dataset_dict['gender_id'])))\n",
    "          images.append(im)\n",
    "\n",
    "          # yielding condition\n",
    "          if len(images) >= batch_size:\n",
    "            yield np.array(images), [np.array(ages), np.array(races), np.array(genders)]\n",
    "            images, ages, races, genders = [], [], [], []\n",
    "\n",
    "        if not is_training:\n",
    "          break\n",
    "\n",
    "data_generator = UtkFaceDataGenerator(df)\n",
    "train_idx, valid_idx, test_idx = data_generator.generate_split_indexes()\n",
    "\n",
    "print('Train dataset lenght: ', len(train_idx))\n",
    "print('Validation dataset lenght: ', len(valid_idx))\n",
    "print('Test dataset lenght: ', len(test_idx))\n"
   ]
  },
  {
   "cell_type": "markdown",
   "metadata": {},
   "source": [
    "## Model Architecture"
   ]
  },
  {
   "cell_type": "code",
   "execution_count": null,
   "metadata": {},
   "outputs": [],
   "source": [
    "# Source: https://pyimagesearch.com/2018/06/04/keras-multiple-outputs-and-multiple-losses/\n",
    "# CNN Model Architecture by splitting the labels (age, gender, race) for flatten, dropout and activation of the layers.\n",
    "from keras.layers.convolutional import Conv2D, SeparableConv2D\n",
    "from keras.layers.convolutional import MaxPooling2D\n",
    "from keras.layers.core import Activation\n",
    "from keras.layers.core import Dropout\n",
    "from keras.layers.core import Lambda\n",
    "from keras.layers.core import Dense\n",
    "from keras.models import Model\n",
    "from keras.layers import BatchNormalization\n",
    "from keras.layers import SpatialDropout2D\n",
    "from keras.layers import Flatten\n",
    "from keras.layers import Input\n",
    "from keras.regularizers import l2\n",
    "import tensorflow as tf\n",
    "\n",
    "# SeparableConv2D: A variation of the traditional convolution that was to compute it faster than conv2D.\n",
    "# \"same\" vs \"valid\": Output size is the \"same\" results in padding with zeros evenly to the left/right or up/down, while \"valid\" is no padding.\n",
    "# Source for more detail about padding: https://stackoverflow.com/questions/37674306/what-is-the-difference-between-same-and-valid-padding-in-tf-nn-max-pool-of-t\n",
    "# BatchNormalization: To speed up training and to use higher learning rates, making learning easier and to distribute the data uniformly across a mean\n",
    "#                     that the network sees best as well as to guarantee that the values are within a healthy range, avoiding saturation and vanishing gradients.\n",
    "# MaxPooling2D: To downsample the input along its spatial dimensions (height and width) by taking the maximum value over an input window defined by pool_size for each channel.\n",
    "# SpatialDropout2D: To drop the entire 2D feature maps instead of individual elements as dropout does.\n",
    "# Strides: The window for shifting.\n",
    "# Source: https://stackoverflow.com/questions/59634780/correct-order-for-spatialdropout2d-batchnormalization-and-activation-function\n",
    "# Dropouts: To prevent over-fitting the model during training\n",
    "# relu(Rectifier Linear Unit): Activation to prevent exponential growth in the computation and the emergence of the “vanishing gradient” problem\n",
    "#                               by keeping gradient always high.\n",
    "# Dense layer: To create fully connected layers, in which (linear) every output depends on every input after usage of Convolutional Layers with fewer parameters\n",
    "# by forcing every input to the function and let the neurol network to learn its relation to the output.\n",
    "\n",
    "\n",
    "class UtkMultiOutputModel():\n",
    "    \"\"\"\n",
    "    Used to generate our multi-output model. This CNN contains three branches, one for age, other for\n",
    "    sex and another for race. Each branch contains a sequence of Convolutional Layers that is defined\n",
    "    on the make_default_hidden_layers method.\n",
    "    \"\"\"\n",
    "\n",
    "    def hidden_layers(self, inputs):\n",
    "\n",
    "        # To generate a default set of hidden layers. Structured as => Conv2D -> Activation \"relu\" -> BatchNormalization -> Pooling -> Dropout\n",
    "\n",
    "        x = SeparableConv2D(16, (3, 3), padding=\"same\")(inputs)\n",
    "        x = Activation(\"relu\")(x)\n",
    "        x = BatchNormalization(axis=-1)(x)\n",
    "        x = MaxPooling2D(pool_size=(3, 3))(x)\n",
    "        x = SpatialDropout2D(0.25)(x)\n",
    "\n",
    "        x = SeparableConv2D(32, (3, 3), padding=\"same\")(x)\n",
    "        x = Activation(\"relu\")(x)\n",
    "        x = BatchNormalization(axis=-1)(x)\n",
    "        x = MaxPooling2D(pool_size=(2, 2))(x)\n",
    "        x = SpatialDropout2D(0.25)(x)\n",
    "\n",
    "        x = SeparableConv2D(32, (3, 3), padding=\"same\")(x)\n",
    "        x = Activation(\"relu\")(x)\n",
    "        x = BatchNormalization(axis=-1)(x)\n",
    "        x = MaxPooling2D(pool_size=(2, 2))(x)\n",
    "        x = SpatialDropout2D(0.25)(x)\n",
    "\n",
    "        x = SeparableConv2D(64, (3, 3), padding=\"same\")(x)\n",
    "        x = Activation(\"relu\")(x)\n",
    "        x = BatchNormalization(axis=-1)(x)\n",
    "        x = MaxPooling2D(pool_size=(2, 2))(x)\n",
    "        x = SpatialDropout2D(0.25)(x)\n",
    "\n",
    "        return x\n",
    "\n",
    "    def build_race_branch(self, inputs):\n",
    "\n",
    "        # Race branch is structured as => Conv -> BatchNormalization -> Pool -> Dropout blocks, followed by the Dense output layer.\n",
    "        x = self.hidden_layers(inputs)\n",
    "        x = Flatten()(x)\n",
    "        x = Dense(64)(x)\n",
    "        x = Activation(\"relu\")(x)\n",
    "        x = BatchNormalization()(x)\n",
    "        x = Dropout(0.5)(x)\n",
    "        x = Dense(5)(x)\n",
    "        x = Activation(\"softmax\", name=\"race\")(x)\n",
    "\n",
    "        return x\n",
    "\n",
    "    def build_gender_branch(self, inputs):\n",
    "\n",
    "        # The gender branch is structured as = Conv -> BatchNormalization -> Pool -> Dropout blocks, followed by the Dense output layer.\n",
    "        x = Lambda(lambda c: tf.image.rgb_to_grayscale(c))(inputs)\n",
    "        x = self.hidden_layers(inputs)\n",
    "        x = Flatten()(x)\n",
    "        x = Dense(128)(x)\n",
    "        x = Activation(\"relu\")(x)\n",
    "        x = BatchNormalization()(x)\n",
    "        x = Dropout(0.5)(x)\n",
    "        x = Dense(2)(x)\n",
    "        x = Activation(\"softmax\", name=\"gender\")(x)\n",
    "\n",
    "        return x\n",
    "\n",
    "    def build_age_branch(self, inputs):\n",
    "\n",
    "        # The age branch is structured as = Conv -> BatchNormalization -> Pool -> Dropout blocks, followed by the Dense output layer.\n",
    "        x = self.hidden_layers(inputs)\n",
    "        x = Flatten()(x)\n",
    "        x = Dense(64)(x)\n",
    "        x = Activation(\"relu\")(x)\n",
    "        x = BatchNormalization()(x)\n",
    "        x = Dropout(0.5)(x)\n",
    "        x = Dense(5)(x)\n",
    "        x = Activation(\"softmax\", name=\"age\")(x)\n",
    "\n",
    "        return x\n",
    "\n",
    "    # To assemble the output model with their determined height and width.\n",
    "    def assemble_full_model(self, width, height):\n",
    "\n",
    "        input_shape = (height, width, 3)\n",
    "        inputs = Input(shape=input_shape)\n",
    "\n",
    "        age_branch = self.build_age_branch(inputs)\n",
    "        race_branch = self.build_race_branch(inputs)\n",
    "        gender_branch = self.build_gender_branch(inputs)\n",
    "        model = Model(inputs=inputs,\n",
    "                     outputs = [age_branch, race_branch, gender_branch],\n",
    "                     name=\"face_net\")\n",
    "        return model\n",
    "\n",
    "model = UtkMultiOutputModel().assemble_full_model(image_width, image_height)\n",
    "\n",
    "# To print out and save the layer model plot as png\n",
    "from keras.utils import plot_model\n",
    "\n",
    "plot_model(model, to_file='../ModelTrainingService/cnn_model_plot(latest).png', show_shapes=True, show_layer_names=True)"
   ]
  },
  {
   "cell_type": "code",
   "execution_count": null,
   "metadata": {},
   "outputs": [],
   "source": [
    "model.summary()"
   ]
  },
  {
   "cell_type": "markdown",
   "metadata": {},
   "source": [
    "## Training the model\n"
   ]
  },
  {
   "cell_type": "code",
   "execution_count": null,
   "metadata": {},
   "outputs": [],
   "source": [
    "from keras.metrics import AUC\n",
    "import math\n",
    "from keras.optimizers import Adam\n",
    "from keras.callbacks import ModelCheckpoint\n",
    "from keras.callbacks import LearningRateScheduler\n",
    "\n",
    "# Source: https://neptune.ai/blog/keras-metrics\n",
    "init_lr = 1e-4\n",
    "epochs = 80\n",
    "#opt = Adam(learning_rate=0.0)                   # 0.0 means not to be used here.\n",
    "opt = Adam(learning_rate=init_lr, decay=init_lr / epochs)\n",
    "model.compile(optimizer=opt,\n",
    "              loss={\n",
    "                  'age': 'categorical_crossentropy',\n",
    "                  'race': 'categorical_crossentropy',\n",
    "                  'gender': 'categorical_crossentropy'},\n",
    "              loss_weights={\n",
    "                  'age': 1.,\n",
    "                  'race': 1.5,\n",
    "                  'gender': 0.1},\n",
    "              metrics={\n",
    "                  'age': ['accuracy', AUC(curve=\"ROC\")],\n",
    "                  'race': ['accuracy', AUC(curve=\"ROC\")],\n",
    "                  'gender': ['accuracy', AUC(curve=\"ROC\")]})"
   ]
  },
  {
   "cell_type": "code",
   "execution_count": null,
   "metadata": {},
   "outputs": [],
   "source": [
    "# class_weight in Keras: To ensure the unevenness in data distribution (as in age) is sorted out by giving the classes with fewer numbers is assigned more\n",
    "# weight to prevent being biased.\n",
    "from sklearn.utils import class_weight\n",
    "\n",
    "class_weight = class_weight.compute_class_weight('balanced',\n",
    "                                                 classes=np.array([0,1,2,3,4]),\n",
    "                                                 y=np.array(df['age']))\n",
    "\n",
    "class_weight1 = {'age': class_weight}"
   ]
  },
  {
   "cell_type": "code",
   "execution_count": null,
   "metadata": {},
   "outputs": [],
   "source": [
    "# To generate batches for train_idx to be able to prevent \"too large to fit inside RAM at once so-called memory errors\".\n",
    "# Soource: https://www.codementor.io/@alexander-k/keras-training-earlystopping-callback-to-avoid-overfitting-1ehrjlx8kw\n",
    "\n",
    "import sys\n",
    "import math\n",
    "import keras\n",
    "from datetime import datetime\n",
    "import datetime\n",
    "import time\n",
    "import os\n",
    "from django.utils.datetime_safe import datetime\n",
    "from keras.callbacks import EarlyStopping\n",
    "from livelossplot import PlotLossesKeras\n",
    "plt.style.use('ggplot')\n",
    "from sklearn.preprocessing import LabelBinarizer\n",
    "from keras.optimizers import Adam\n",
    "from keras.callbacks import LearningRateScheduler\n",
    "\n",
    "# CALLBACKS\n",
    "\n",
    "# Exponential_decay() or step_decay() functions alternatively can be used for dynamic learning rate\n",
    "#----------------------------------------------------------------------------------------------------------------------------------------------\n",
    "# Learning Rate Schedules in Keras reduces the learning rate by a certain factor after certain no of epochs\n",
    "\n",
    "#Source:    (https://towardsdatascience.com/learning-rate-schedules-and-adaptive-learning-rate-methods-for-deep-learning-2c8f433990d1)\n",
    "#           (https://sanjayasubedi.com.np/deeplearning/multioutput-keras/)\n",
    "#           (https://github.com/sukilau/Ziff-deep-learning/blob/master/3-CIFAR10-lrate/CIFAR10-lrate.ipynb)\n",
    "\n",
    "# According ot several sources (few example of it above), since the learning rate is the most important\n",
    "# hyperparameter to tune the training in a neural network, it is stated that to reduce learning rate as the training progresses,\n",
    "# is a good practice for a better outcome (accuracy).\n",
    "\n",
    "# Exponential Decay\n",
    "# def exp_decay(epoch):\n",
    "#    initial_lrate = 0.001\n",
    "#    k = 0.2\n",
    "#    lrate = initial_lrate * np.exp(-k * epoch)  # lr, k are hyperparameters and t=epoch is the iteration number\n",
    "#    return lrate\n",
    "\n",
    "# Step Decay, to drop the learning rate by a factor every few epochs.\n",
    "# def step_decay(epoch):\n",
    "# \tinitial_lrate = 0.008\n",
    "# \tdrop = 0.7              # % drop rate\n",
    "# \tepochs_drop = 5.0       # To drop after every number of epoch\n",
    "# \tlrate = initial_lrate * math.pow(drop, math.floor((1 + epoch) / epochs_drop)) #Fromula for step_decay\n",
    "# \treturn lrate\n",
    "\n",
    "# Source: (https://datascience.stackexchange.com/questions/42599/what-is-the-relationship-between-the-accuracy-and-the-loss-in-deep-learning)\n",
    "# a low accuracy and huge loss means you made huge errors on a lot of data\n",
    "# a low accuracy but low loss means you made little errors on a lot of data\n",
    "# a great accuracy with low loss means you made low errors on a few data (best case)\n",
    "\n",
    "# lrate = LearningRateScheduler(step_decay)       # At the beginning of every epoch, this callback gets the updated learning rate value\n",
    "#lrate = LearningRateScheduler(exp_decay)\n",
    "\n",
    "# `binary_crossentropy`, sigmoid activation, scalar target.\n",
    "# `categorical_crossentropy`, softmax activation, one-hot encoded target.\n",
    "\n",
    "# It is this callback that allows a function to invoke during program execution.\n",
    "#callbacks_list = [lrate]\n",
    "#----------------------------------------------------------------------------------------------------------------------------------------\n",
    "\n",
    "# To measure the time for the traiing session\n",
    "start = datetime.now()\n",
    "\n",
    "filepath = \"../ModelTrainingService/models/CNN_Dec260151.hdf5\"\n",
    "checkpoint = ModelCheckpoint(filepath, monitor='val_acc', verbose=1, save_best_only=True, mode='max')\n",
    "\n",
    "monitor_val_acc = [EarlyStopping(monitor = 'val_loss',\n",
    "                                min_delta = 0,\n",
    "                                patience = 10,\n",
    "                                verbose = 1,\n",
    "                                mode='max',\n",
    "                                restore_best_weights = True)]\n",
    "\n",
    "#callbacks_list = [PlotLossesKeras(), monitor_val_acc, checkpoint]\n",
    "\n",
    "\n",
    "# Training and validation batches\n",
    "batch_size = 32\n",
    "train_gen = data_generator.generate_images(train_idx,\n",
    "                                           is_training=True,\n",
    "                                           batch_size=batch_size)\n",
    "\n",
    "valid_gen = data_generator.generate_images(valid_idx,\n",
    "                                           is_training=True,\n",
    "                                           batch_size=batch_size)\n",
    "\n",
    "# fit() as known fit_generator() before 2020: Validation while training the model to evaluate the loss.\n",
    "history = model.fit(train_gen,\n",
    "                    steps_per_epoch=len(train_idx)//batch_size,\n",
    "                    epochs=epochs,\n",
    "                    #callbacks=callbacks_list,\n",
    "                    validation_data=valid_gen,\n",
    "                    validation_steps=len(valid_idx)//batch_size,\n",
    "                    verbose=1)\n",
    "\n",
    "#Training time\n",
    "end = datetime.now()\n",
    "elapsed = end-start\n",
    "print ('\\nElapsed Time: ', elapsed)"
   ]
  },
  {
   "cell_type": "code",
   "execution_count": null,
   "metadata": {},
   "outputs": [],
   "source": [
    "# save the model to disk\n",
    "#Source: (https://www.tensorflow.org/api_docs/python/tf/keras/models/save_model)\n",
    "# Save the entire model as a SavedModel.\n",
    "\n",
    "# save(): To create a SavedModel folder `saved_model`, containing \"assets\", \"saved_model.pb\" & \"variables\".\n",
    "# The model architecture, and training configuration (including the optimizer, losses, and metrics) are stored in `saved_model.pb`.\n",
    "# The weights are saved in the `variables/` directory.\n",
    "# path = \"../models/saved_model/latest_model\"\n",
    "\n",
    "#model.save('../models/saved_model/latest_model/you_model_name.tf')\n",
    "\n",
    "f_name = r'CNN-model-'\n",
    "f_time = datetime.now().strftime(\"%Y-%m-%d_%I-%M-%S_%p\")\n",
    "file = f_name + f_time + '.h5'\n",
    "filepath = '../ModelTrainingService/models/' + file\n",
    "model.save(filepath, include_optimizer=True)\n",
    "print(\"[INFO] Model \\\"%s\\\" saved (Saving into the path takes few minutes).\" % file)"
   ]
  },
  {
   "cell_type": "code",
   "execution_count": null,
   "metadata": {},
   "outputs": [],
   "source": [
    "def func(a, b):\n",
    "    return a + b"
   ]
  },
  {
   "cell_type": "code",
   "execution_count": null,
   "metadata": {},
   "outputs": [],
   "source": [
    "def foo(x):\n",
    "  return 1 + 1"
   ]
  },
  {
   "cell_type": "code",
   "execution_count": null,
   "metadata": {},
   "outputs": [],
   "source": [
    "import nbformat as nbf\n",
    "from glob import glob\n",
    "\n",
    "# Collect a list of all notebooks in the content folder\n",
    "notebooks = glob(\"./**/*.ipynb\", recursive=True)\n",
    "\n",
    "# Text to look for in adding tags\n",
    "text_search_dict = {\n",
    "    \"# HIDDEN\": \"remove-cell\",  # Remove the whole cell\n",
    "    \"# NO CODE\": \"remove-input\",  # Remove only the input\n",
    "    \"# HIDE CODE\": \"hide-input\"  # Hide the input w/ a button to show\n",
    "}\n",
    "\n",
    "# Search through each notebook and look for the text, add a tag if necessary\n",
    "for ipath in notebooks:\n",
    "    ntbk = nbf.read(ipath, nbf.NO_CONVERT)\n",
    "\n",
    "    for cell in ntbk.cells:\n",
    "        cell_tags = cell.get('metadata', {}).get('tags', [])\n",
    "        for key, val in text_search_dict.items():\n",
    "            if key in cell['source']:\n",
    "                if val not in cell_tags:\n",
    "                    cell_tags.append(val)\n",
    "        if len(cell_tags) > 0:\n",
    "            cell['metadata']['tags'] = cell_tags\n",
    "\n",
    "    nbf.write(ntbk, ipath)"
   ]
  },
  {
   "cell_type": "code",
   "execution_count": null,
   "metadata": {},
   "outputs": [],
   "source": [
    "# Load the latest trained model\n",
    "from keras.models import load_model\n",
    "\n",
    "#loaded_model = load_model('../models/saved_model/latest_model')\n",
    "#loaded_model = load_model('../models/saved_model/latest_model/you_model_name.tf')\n",
    "loaded_model = load_model(filepath, compile=False)\n",
    "print(\"[INFO] Model \\\"%s\\\" loaded\" % file)"
   ]
  },
  {
   "cell_type": "code",
   "execution_count": null,
   "metadata": {},
   "outputs": [],
   "source": [
    "# Predict the age group and the gender of the person from aligned & cropped profile face picture.\n",
    "\n",
    "from keras.preprocessing import image\n",
    "from keras.utils import load_img\n",
    "from keras.preprocessing.image import ImageDataGenerator\n",
    "\n",
    "# Load the image and size it.\n",
    "def loadImage(filepath):\n",
    "  test_img = load_img(filepath, target_size=(image_width, image_height, 3))\n",
    "  test_img = img_to_array(test_img)\n",
    "  test_img /= 255\n",
    "  test_img = np.expand_dims(test_img, axis = 0)\n",
    "\n",
    "  return test_img\n",
    "\n",
    "import random as rn\n",
    "from PIL import Image, ImageFont\n",
    "\n",
    "# To choose image randomly from dataset\n",
    "path=df['file']\n",
    "picture = rn.choice(path)\n",
    "\n",
    "#picture='../models/test_img/kenny-rogers.jpg' # Change the path for other image files if you would like to see more.\n",
    "age_prediction, race_prediction, gender_prediction = loaded_model.predict(loadImage(picture))\n",
    "\n",
    "print('Age_prediction: ', (age_prediction * 100), '%')\n",
    "print('Race_prediction: ', (race_prediction * 100), '%')\n",
    "print('Gender_prediction: ', (gender_prediction * 100), '%')\n",
    "print(picture)\n",
    "\n",
    "img = load_img(picture)\n",
    "plt.imshow(img)\n",
    "plt.show()\n",
    "max = -1\n",
    "count = 0\n",
    "\n",
    "for i in age_prediction[0]:\n",
    "    if i > max:\n",
    "        max = i\n",
    "        temp = count\n",
    "    count+=1\n",
    "\n",
    "#Conditions for outputs\n",
    "if temp == 0:\n",
    "    print('0-24 yrs old')\n",
    "if temp == 1:\n",
    "    print('25-49 yrs old')\n",
    "if temp == 2:\n",
    "    print('50-74 yrs old')\n",
    "if temp == 3:\n",
    "    print('75-99 yrs old')\n",
    "if temp == 4:\n",
    "    print('100-124 yrs old')\n",
    "\n",
    "if gender_prediction[0][0] > gender_prediction[0][1]:\n",
    "  print('Male')\n",
    "else:\n",
    "  print('Female')"
   ]
  },
  {
   "cell_type": "markdown",
   "metadata": {},
   "source": [
    "## Evaluating our model on the validation and test dataset"
   ]
  },
  {
   "cell_type": "code",
   "execution_count": null,
   "metadata": {},
   "outputs": [],
   "source": [
    "# To returns the loss value & metric values for the model in test dataset\n",
    "test_batch_size = 64\n",
    "test_generator = data_generator.generate_images(test_idx,\n",
    "                                                is_training=False,\n",
    "                                                batch_size=test_batch_size)\n",
    "\n",
    "age_pred, race_pred, gender_pred = model.predict(test_generator,\n",
    "                                                 steps=len(test_idx)//test_batch_size)\n",
    "# print('Age_on_test: ', len(age_pred))\n",
    "# print('Gender_on_test: ', len(gender_pred))\n",
    "# print('Race_on_test: ', len(race_pred))"
   ]
  },
  {
   "cell_type": "code",
   "execution_count": null,
   "metadata": {},
   "outputs": [],
   "source": [
    "test_batch_size = 128\n",
    "\n",
    "test_generator  = data_generator.generate_images(test_idx,\n",
    "                                                is_training=False,\n",
    "                                                batch_size=test_batch_size)\n",
    "\n",
    "images, age_true, race_true, gender_true = [], [], [], []\n",
    "\n",
    "for test_batch in test_generator:\n",
    "    image = test_batch[0]\n",
    "    labels = test_batch[1]\n",
    "\n",
    "    images.extend(image)\n",
    "    age_true.extend(labels[0])\n",
    "    race_true.extend(labels[1])\n",
    "    gender_true.extend(labels[2])\n",
    "\n",
    "age_true = np.array(age_true)\n",
    "race_true = np.array(race_true)\n",
    "gender_true = np.array(gender_true)\n",
    "\n",
    "race_true, gender_true = race_true.argmax(axis=-1), gender_true.argmax(axis=-1)\n",
    "race_pred, gender_pred = race_pred.argmax(axis=-1), gender_pred.argmax(axis=-1)\n",
    "\n",
    "age_true = age_true.argmax(axis=-1) # * data_generator.max_age\n",
    "age_pred = age_pred.argmax(axis=-1) # * data_generator.max_age"
   ]
  },
  {
   "cell_type": "code",
   "execution_count": null,
   "metadata": {},
   "outputs": [],
   "source": [
    "# Evaluate the model on test data\n",
    "test_gen = data_generator.generate_images(test_idx,\n",
    "                                           is_training=True,\n",
    "                                           batch_size=32)\n",
    "\n",
    "test_results = {}\n",
    "test_scores = model.evaluate(test_gen, steps=4742, verbose=1, batch_size=32)\n",
    "print('\\nEvaluation results on test dataset...')\n",
    "dict(zip(model.metrics_names, test_scores))\n",
    "# test_results = dict(zip(model.metrics_names, val_scores))\n",
    "# print('\\n')\n",
    "# for key, value in test_results.items():\n",
    "#   print(\"%s: %s\" % (key, round(value*100, 2)), '%')"
   ]
  },
  {
   "cell_type": "code",
   "execution_count": null,
   "metadata": {},
   "outputs": [],
   "source": [
    "# Classification report for gender feature\n",
    "from sklearn.metrics import classification_report, confusion_matrix\n",
    "print('Classification Report for \"Age\"\\n')\n",
    "classification_report_gender = classification_report(gender_true, gender_pred, target_names=dataset_dict['gender_temp'].keys())\n",
    "print(classification_report_gender)"
   ]
  },
  {
   "cell_type": "code",
   "execution_count": null,
   "metadata": {},
   "outputs": [],
   "source": [
    "# Classification report for age feature\n",
    "classification_report_gender = classification_report(age_true, age_pred, target_names=dataset_dict['age_id'].keys(), zero_division=0)\n",
    "print(classification_report_gender)\n",
    "#print('Classification Report for \"Gender\"\\n')"
   ]
  },
  {
   "cell_type": "code",
   "execution_count": null,
   "metadata": {},
   "outputs": [],
   "source": [
    "# Age ROC curves (Multiclass classification)\n",
    "# Source: https://stackoverflow.com/questions/39685740/calculate-sklearn-roc-auc-score-for-multi-class\n",
    "from sklearn.metrics import accuracy_score, roc_curve\n",
    "\n",
    "age_groups = ['0-24', '25-49','50-74','75-99', '100-124']\n",
    "def roc_auc_score_multiclass(age_true, age_pred, average = \"macro\"):\n",
    "\n",
    "  #creating a set of all the unique classes using the actual class list\n",
    "  unique_class = set(age_true)\n",
    "  roc_auc_dict = {}\n",
    "\n",
    "  for per_class in unique_class:\n",
    "    #creating a list of all the classes except the current class\n",
    "    other_class = [x for x in unique_class if x != per_class]\n",
    "\n",
    "    #marking the current class as 1 and all other classes as 0\n",
    "    new_actual_class = [0 if x in other_class else 1 for x in age_true]\n",
    "    new_pred_class = [0 if x in other_class else 1 for x in age_pred]\n",
    "\n",
    "    #using the sklearn metrics method to calculate the roc_auc_score\n",
    "    from sklearn.metrics import roc_curve, roc_auc_score\n",
    "    fpr_age, tpr_age, threshold_age = roc_curve(new_actual_class, new_pred_class)\n",
    "    roc_auc = roc_auc_score(new_actual_class, new_pred_class)\n",
    "    roc_auc_dict[per_class] = roc_auc\n",
    "\n",
    "\n",
    "    # plotting\n",
    "    plt.plot(fpr_age, tpr_age, linestyle='-',color='red', label=f'Area Under ROC Curve : {roc_auc:.3f}')\n",
    "    plt.plot([0, 1], [0, 1], color='blue', linestyle='--', label='Baseline')\n",
    "    plt.title('Age group ' + age_groups[per_class] + ' ROC curve')\n",
    "    plt.xlabel('False Positive Rate')\n",
    "    plt.ylabel('True Positive rate')\n",
    "    plt.legend(loc='best', fancybox=True,)\n",
    "    save_name = 'metrics_figures/ROC_curve_age_group_' + age_groups[per_class] + '.png'\n",
    "    plt.savefig(save_name, bbox_inches='tight')\n",
    "    plt.show()\n",
    "    plt.close()\n",
    "\n",
    "  return roc_auc_dict\n",
    "\n",
    "roc_auc_multiclass = roc_auc_score_multiclass(age_true, age_pred)\n",
    "acc = accuracy_score(age_true, age_pred)\n",
    "\n",
    "for i in roc_auc_multiclass:\n",
    "  print('Roc_Auc_score for age group', age_groups[i], ': {:.0%}'.format(roc_auc_multiclass[i]))"
   ]
  },
  {
   "cell_type": "code",
   "execution_count": null,
   "metadata": {},
   "outputs": [],
   "source": [
    "# Gender ROC curves (Binary classification)\n",
    "from sklearn.metrics import roc_auc_score, roc_curve\n",
    "\n",
    "fpr_gender, tpr_gender, threshold_gender = roc_curve(gender_true, gender_pred)\n",
    "auc_score_gender = roc_auc_score(gender_true, gender_pred)\n",
    "\n",
    "# plotting\n",
    "plt.plot(fpr_gender, tpr_gender, linestyle='-',color='green', label=f'Area Under ROC Curve : {auc_score_gender:.3f}')\n",
    "plt.plot([0, 1], [0, 1], color='blue', linestyle='--', label='Baseline')\n",
    "plt.title('Gender ROC curve')\n",
    "plt.xlabel('False Positive Rate')\n",
    "plt.ylabel('True Positive rate')\n",
    "plt.legend(loc='best', fancybox=True,)\n",
    "plt.savefig(fname='metrics_figures/ROC_curve_gender.png', bbox_inches='tight')\n",
    "plt.show()\n",
    "plt.close()"
   ]
  },
  {
   "cell_type": "code",
   "execution_count": null,
   "metadata": {},
   "outputs": [],
   "source": [
    "# Confusion matrix for age and gender (true vs predicted)\n",
    "%matplotlib inline\n",
    "from sklearn.metrics import confusion_matrix\n",
    "import itertools\n",
    "\n",
    "# Source= https://scikit-learn.org/stable/auto_examples/model_selection/plot_confusion_matrix.html#sphx-glr-auto-examples-model-selection-plot-confusion-matrix-py\n",
    "def plot_confusion_matrix(cm,\n",
    "                          classes,\n",
    "                          normalize=False,\n",
    "                          title='Confusion matrix',\n",
    "                          cmap=plt.cm.Blues):\n",
    "    \"\"\"\n",
    "    This function prints and plots the confusion matrix.\n",
    "    Normalization can be applied by setting `normalize=True`.\n",
    "    \"\"\"\n",
    "    plt.imshow(cm,\n",
    "               interpolation='nearest',\n",
    "               cmap=cmap)\n",
    "    plt.title(title)\n",
    "    plt.colorbar()\n",
    "    tick_marks = np.arange(len(classes))\n",
    "    plt.xticks(tick_marks, classes, rotation=45)\n",
    "    plt.yticks(tick_marks, classes)\n",
    "\n",
    "    if normalize:\n",
    "        cm = cm.astype('float') / cm.sum(axis=1)[:, np.newaxis]\n",
    "        print(\"Normalized confusion matrix\")\n",
    "    else:\n",
    "        print('Confusion matrix, without normalization')\n",
    "\n",
    "    print(cm)\n",
    "\n",
    "    thresh = cm.max() / 2.\n",
    "    for i, j in itertools.product(range(cm.shape[0]), range(cm.shape[1])):\n",
    "        plt.text(j, i, cm[i, j],\n",
    "            horizontalalignment=\"center\",\n",
    "            color=\"white\" if cm[i, j] > thresh else \"black\")\n",
    "\n",
    "    plt.tight_layout()\n",
    "    plt.ylabel('True label')\n",
    "    plt.xlabel('Predicted label')\n",
    "    if title == 'Confusion Matrix for \"Age\" (Multiclass Classification)':\n",
    "      plt.savefig(fname='metrics_figures/Conf_Mtrx_age.png', bbox_inches='tight')\n",
    "    else:\n",
    "      plt.savefig(fname='metrics_figures/Conf_Mtrx_gender.png', bbox_inches='tight')\n",
    "    plt.show()\n",
    "    plt.close()\n",
    "\n",
    "print('Total age count in test dataset: %s' % len(age_pred), '\\n')\n",
    "cm_age = confusion_matrix(age_true, age_pred)\n",
    "cm_age_plot_labels = ['0-24', '25-49', '50-74', '75-99', '100-124']\n",
    "plot_confusion_matrix(cm=cm_age, classes=cm_age_plot_labels, title='Confusion Matrix for \"Age\" (Multiclass Classification)')\n",
    "\n",
    "print('Total gender count in test dataset: %s' % len(gender_pred), '\\n')\n",
    "cm_gender = confusion_matrix(gender_true, gender_pred)\n",
    "cm_gender_plot_labels = ['male', 'female']\n",
    "plot_confusion_matrix(cm=cm_gender, classes=cm_gender_plot_labels, title='Confusion Matrix for \"Gender\" (Binary Classification)')"
   ]
  },
  {
   "cell_type": "code",
   "execution_count": null,
   "metadata": {},
   "outputs": [],
   "source": [
    "# Age accuracy\n",
    "plt.plot(history.history['age_accuracy'])\n",
    "plt.plot(history.history['val_age_accuracy'])\n",
    "plt.title('Age Accuracy')\n",
    "plt.ylabel('Accuracy')\n",
    "plt.xlabel('Epoch')\n",
    "plt.legend(['Train', 'Validation'], loc='best', fancybox=True)\n",
    "plt.savefig(fname='metrics_figures/accuracy_age.png', bbox_inches='tight')\n",
    "plt.show()\n",
    "plt.close()"
   ]
  },
  {
   "cell_type": "code",
   "execution_count": null,
   "metadata": {},
   "outputs": [],
   "source": [
    "# Gender accuracy\n",
    "plt.plot(history.history['gender_accuracy'])\n",
    "plt.plot(history.history['val_gender_accuracy'])\n",
    "plt.title('Gender Accuracy')\n",
    "plt.ylabel('Accuracy')\n",
    "plt.xlabel('Epoch')\n",
    "plt.legend(['Train', 'Validation'], loc='best', fancybox=True)\n",
    "plt.savefig(fname='metrics_figures/accuracy_gender.png', bbox_inches='tight')\n",
    "plt.show()\n",
    "plt.close()"
   ]
  },
  {
   "cell_type": "code",
   "execution_count": null,
   "metadata": {},
   "outputs": [],
   "source": [
    "# Overall loss\n",
    "plt.plot(history.history['loss'])\n",
    "plt.plot(history.history['val_loss'])\n",
    "plt.title('Overall Loss')\n",
    "plt.ylabel('Loss')\n",
    "plt.xlabel('Epoch')\n",
    "plt.legend(['Train', 'Validation'], loc='best', fancybox=True)\n",
    "plt.savefig(fname='metrics_figures/overall_loss.png', bbox_inches='tight')\n",
    "plt.show()\n",
    "plt.close()"
   ]
  },
  {
   "cell_type": "code",
   "execution_count": null,
   "metadata": {},
   "outputs": [],
   "source": []
  }
 ],
 "metadata": {
  "celltoolbar": "Tags",
  "kernelspec": {
   "display_name": "Python 3 (ipykernel)",
   "language": "python",
   "name": "python3"
  },
  "language_info": {
   "codemirror_mode": {
    "name": "ipython",
    "version": 3
   },
   "file_extension": ".py",
   "mimetype": "text/x-python",
   "name": "python",
   "nbconvert_exporter": "python",
   "pygments_lexer": "ipython3",
   "version": "3.10.9"
  },
  "vscode": {
   "interpreter": {
    "hash": "fe3b8085a0449570a8c6d77f9a5c9a97dc2c246f306a8ac0ec9cbdecd24f761c"
   }
  }
 },
 "nbformat": 4,
 "nbformat_minor": 1
}
